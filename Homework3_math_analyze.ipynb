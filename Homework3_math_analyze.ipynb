{
 "cells": [
  {
   "cell_type": "markdown",
   "metadata": {},
   "source": [
    "__2*.__ На языке Python предложить алгоритм вычисляющий численно предел\n",
    "\n",
    "### $$\\lim_{x\\to +\\infty} \\frac{x}{\\sqrt[x]{x!}}$$"
   ]
  },
  {
   "cell_type": "code",
   "execution_count": null,
   "metadata": {},
   "outputs": [],
   "source": [
    "def fact_in_deg(n):\n",
    "    \"\"\"\n",
    "    Функция, вычисляющая factorial(n) ** (1 / n)\n",
    "    \"\"\"\n",
    "    calc = 1\n",
    "    decr = n\n",
    "    while decr > 1:\n",
    "        calc *= decr ** (1 / n)\n",
    "        decr -= 1\n",
    "    return calc"
   ]
  },
  {
   "cell_type": "code",
   "execution_count": 58,
   "metadata": {},
   "outputs": [],
   "source": [
    "def limit_finder(n: int, a2: float, eps:float=0.01, iters:int=100000, lim:int=1):\n",
    "    \"\"\"\n",
    "    Функция нахождения предела последовательности для n / fact_in_deg(n)\n",
    "    \"\"\"\n",
    "    while lim > eps:\n",
    "        a1 = a2\n",
    "        a2 = n / fact_in_deg(n)\n",
    "        lim = a2-a1\n",
    "        n += 1\n",
    "        iters -= 1\n",
    "        if iters is False:\n",
    "            print('Достигнул предел по итерациям')\n",
    "            break\n",
    "    print (f'Численное значение предела: {a2}\\n',f'Погрешность: {lim}\\n', f'Число шагов: {n-1}')"
   ]
  },
  {
   "cell_type": "code",
   "execution_count": 59,
   "metadata": {},
   "outputs": [
    {
     "name": "stdout",
     "output_type": "stream",
     "text": [
      "Численное значение предела: 2.716988423724227\n",
      " Погрешность: 9.999675176786127e-08\n",
      " Число шагов: 11779\n"
     ]
    }
   ],
   "source": [
    "n = 10\n",
    "init = 1\n",
    "eps = 0.0000001\n",
    "\n",
    "limit_finder(n, init, eps)"
   ]
  }
 ],
 "metadata": {
  "kernelspec": {
   "display_name": "Python 3",
   "language": "python",
   "name": "python3"
  },
  "language_info": {
   "codemirror_mode": {
    "name": "ipython",
    "version": 3
   },
   "file_extension": ".py",
   "mimetype": "text/x-python",
   "name": "python",
   "nbconvert_exporter": "python",
   "pygments_lexer": "ipython3",
   "version": "3.8.3"
  }
 },
 "nbformat": 4,
 "nbformat_minor": 4
}
