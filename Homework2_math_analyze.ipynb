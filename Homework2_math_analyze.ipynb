{
 "cells": [
  {
   "cell_type": "markdown",
   "metadata": {},
   "source": [
    "## ДЗ к 3-му уроку"
   ]
  },
  {
   "cell_type": "code",
   "execution_count": 17,
   "metadata": {},
   "outputs": [],
   "source": [
    "import math"
   ]
  },
  {
   "cell_type": "markdown",
   "metadata": {},
   "source": [
    "#### 1) Найти предел последовательности:"
   ]
  },
  {
   "cell_type": "markdown",
   "metadata": {},
   "source": [
    "### $$a) \\,\\,\\,\\,\\lim_{n\\to \\infty} \\frac{(23-2n^2)(3n^2+17)^2}{4n^6+n-1}$$"
   ]
  },
  {
   "cell_type": "code",
   "execution_count": 18,
   "metadata": {},
   "outputs": [
    {
     "name": "stdout",
     "output_type": "stream",
     "text": [
      "Численное значение предела: -4.499987788432088\n",
      " Погрешность: 9.961570501815231e-08\n",
      " Число шагов: 249\n"
     ]
    }
   ],
   "source": [
    "def formula(n: int):\n",
    "    return ((23 - 2*n**2) * (3*n**2 + 17) ** 2) / (4*n**6 + n - 1)\n",
    "    \n",
    "\n",
    "def limit_finder(n: int, a2: float, eps:float=0.0000001, iters:int=100000, lim:int=1):\n",
    "    \"\"\"Функция нахождения передела последовательности\"\"\"\n",
    "    while lim > eps:\n",
    "        a1 = a2\n",
    "        a2 = formula(n)\n",
    "        lim = abs(a1-a2)\n",
    "        n += 1\n",
    "        iters -= 1\n",
    "        if iters is False:\n",
    "            print('Достигнул предел по итерациям')\n",
    "            break\n",
    "    print (f'Численное значение предела: {a2}\\n',f'Погрешность: {lim}\\n', f'Число шагов: {n-1}')\n",
    "\n",
    "    \n",
    "n = 1\n",
    "a2 = -6647   \n",
    "limit_finder(n, a2)"
   ]
  },
  {
   "cell_type": "markdown",
   "metadata": {},
   "source": [
    "### $$б) \\,\\,\\,\\,\\lim_{n\\to \\infty} \\frac{(97-2n)^3}{2n(3n^2+15)+8n}$$"
   ]
  },
  {
   "cell_type": "code",
   "execution_count": 19,
   "metadata": {},
   "outputs": [
    {
     "name": "stdout",
     "output_type": "stream",
     "text": [
      "Численное значение предела: -1.3289288963307009\n",
      " Погрешность: 9.99973710502644e-08\n",
      " Число шагов: 43998\n"
     ]
    }
   ],
   "source": [
    "def formula(n: int):\n",
    "    return (97 - 2*n)**3 / (2*n*(3*n**2 + 15) + 8*n)\n",
    "\n",
    "\n",
    "n = 1\n",
    "a2 = 1025 \n",
    "limit_finder(n, a2)"
   ]
  },
  {
   "cell_type": "markdown",
   "metadata": {},
   "source": [
    "### $$в) \\,\\,\\,\\,\\lim_{n\\to \\infty} \\frac{2n^3+13n(n+18)}{(27-n)(2n+19)^2}$$"
   ]
  },
  {
   "cell_type": "code",
   "execution_count": 20,
   "metadata": {},
   "outputs": [
    {
     "name": "stdout",
     "output_type": "stream",
     "text": [
      "Численное значение предела: -0.5008513483529892\n",
      " Погрешность: 9.998184991033554e-08\n",
      " Число шагов: 8561\n"
     ]
    }
   ],
   "source": [
    "def formula(n: int):\n",
    "    return (2*n**3 + 13*n*(n + 18)) / ((27 - n) * (2*n + 19)**2)\n",
    "\n",
    "\n",
    "n = 28\n",
    "a2 = 0 \n",
    "limit_finder(n, a2)"
   ]
  },
  {
   "cell_type": "markdown",
   "metadata": {},
   "source": [
    "### $$г) \\,\\,\\,\\,\\lim_{n\\to \\infty} (\\sqrt{n^2+1}-n)$$"
   ]
  },
  {
   "cell_type": "code",
   "execution_count": 21,
   "metadata": {},
   "outputs": [
    {
     "name": "stdout",
     "output_type": "stream",
     "text": [
      "Численное значение предела: 0.0002235136230410717\n",
      " Погрешность: 9.996165317716077e-08\n",
      " Число шагов: 2237\n"
     ]
    }
   ],
   "source": [
    "def formula(n: int):\n",
    "    return math.sqrt(n**2 + 1) - n\n",
    "\n",
    "\n",
    "n = 1\n",
    "a2 = 0 \n",
    "limit_finder(n, a2)"
   ]
  },
  {
   "cell_type": "markdown",
   "metadata": {},
   "source": [
    "### $$д) \\,\\,\\,\\,\\lim_{n\\to \\infty} \\frac{(-4)^n+5\\cdot7^n}{(-4)^{n-1}+7^{n+2}}$$"
   ]
  },
  {
   "cell_type": "code",
   "execution_count": 22,
   "metadata": {},
   "outputs": [
    {
     "name": "stdout",
     "output_type": "stream",
     "text": [
      "Численное значение предела: 0.10204072684278495\n",
      " Погрешность: 6.711281193283458e-08\n",
      " Число шагов: 22\n"
     ]
    }
   ],
   "source": [
    "def formula(n: int):\n",
    "    return (-4**n + 5*7**n) / (-4**(n-1) + 7**(n + 2))\n",
    "\n",
    "\n",
    "n = 1\n",
    "a2 = 0.123 \n",
    "limit_finder(n, a2)"
   ]
  },
  {
   "cell_type": "markdown",
   "metadata": {},
   "source": [
    "### $$e) ^*\\,\\,\\,\\,\\lim_{n\\to \\infty} \\Bigl(\\frac{1}{1\\cdot2}+\\frac{1}{2\\cdot3}+\\frac{1}{3\\cdot4}+...+\\frac{1}{(n-1)\\cdot n}\\Bigr)$$"
   ]
  },
  {
   "cell_type": "markdown",
   "metadata": {},
   "source": [
    "Не успел"
   ]
  },
  {
   "cell_type": "markdown",
   "metadata": {},
   "source": [
    "#### 2. Представьте  1  в виде суммы трех рациональных дробей с разными знаменателями и числителем равным  1 ."
   ]
  },
  {
   "cell_type": "markdown",
   "metadata": {},
   "source": [
    "$$ \\frac{1}{3} + \\frac{1}{6} + \\frac{1}{2} = 1 $$"
   ]
  },
  {
   "cell_type": "markdown",
   "metadata": {},
   "source": [
    "#### 3 ∗ . Тоже задание, только в виде суммы шести дробей."
   ]
  },
  {
   "cell_type": "markdown",
   "metadata": {},
   "source": [
    "$$ \\frac{1}{18} + \\frac{1}{9} + \\frac{1}{6} = \\frac{1}{3} $$"
   ]
  },
  {
   "cell_type": "markdown",
   "metadata": {},
   "source": [
    "$$ \\frac{1}{15} + \\frac{1}{10} = \\frac{1}{6} $$"
   ]
  },
  {
   "cell_type": "markdown",
   "metadata": {},
   "source": [
    "$$ \\frac{1}{18} + \\frac{1}{9} + \\frac{1}{6} + \\frac{1}{15} + \\frac{1}{10} + \\frac{1}{2} = \\frac{1}{3} + \\frac{1}{6} + \\frac{1}{2} = 1 $$"
   ]
  },
  {
   "cell_type": "markdown",
   "metadata": {},
   "source": [
    "__4.__ Пользуясь критерием Коши, докажите сходимость последовательности:\n",
    "\n",
    "### $$a_n=\\frac{\\sin1}{2}+\\frac{\\sin2}{2^2}+\\frac{\\sin3}{2^3}+..\\frac{\\sin n}{2^n}\\,\\,\\,\\,\\,\\Rightarrow$$\n",
    "\n",
    "### $$\\Bigl\\{a_n\\Bigr\\}_{n=1}^\\infty=\\Bigl\\{\\frac{\\sin1}{2}, \\frac{\\sin1}{2}+\\frac{\\sin2}{2^2}, ..., a_n,...\\Bigr\\}$$\n",
    "\n",
    "\n",
    "$^*$ Какой член последовательности можно взять в качестве предела с точностью $\\varepsilon=10^{-7}$?"
   ]
  },
  {
   "cell_type": "markdown",
   "metadata": {},
   "source": [
    "### $$ \\,\\,\\,\\,\\lim_{n\\to \\infty} sin\\infty = [-1: 1] $$"
   ]
  },
  {
   "cell_type": "markdown",
   "metadata": {},
   "source": [
    "### $$ \\,\\,\\,\\,\\lim_{n\\to \\infty} \\frac{1}{2^n} = 0 $$"
   ]
  },
  {
   "cell_type": "markdown",
   "metadata": {},
   "source": [
    "Последовательность сходится"
   ]
  },
  {
   "cell_type": "code",
   "execution_count": 30,
   "metadata": {},
   "outputs": [
    {
     "name": "stdout",
     "output_type": "stream",
     "text": [
      "Численное значение предела: -1.0087733318509706e-07\n",
      " Погрешность: 9.87670166008905e-08\n",
      " Число шагов: 23\n"
     ]
    }
   ],
   "source": [
    "def formula(n: int):\n",
    "    return math.sin(n) / 2**n\n",
    "\n",
    "\n",
    "\n",
    "n = 1\n",
    "a2 = 0.42 \n",
    "limit_finder(n, a2)"
   ]
  },
  {
   "cell_type": "markdown",
   "metadata": {},
   "source": [
    "Можно взять 23-й член последовательности"
   ]
  },
  {
   "cell_type": "markdown",
   "metadata": {},
   "source": [
    "Остальное сделать не успел"
   ]
  },
  {
   "cell_type": "code",
   "execution_count": null,
   "metadata": {},
   "outputs": [],
   "source": []
  }
 ],
 "metadata": {
  "kernelspec": {
   "display_name": "Python 3",
   "language": "python",
   "name": "python3"
  },
  "language_info": {
   "codemirror_mode": {
    "name": "ipython",
    "version": 3
   },
   "file_extension": ".py",
   "mimetype": "text/x-python",
   "name": "python",
   "nbconvert_exporter": "python",
   "pygments_lexer": "ipython3",
   "version": "3.8.3"
  }
 },
 "nbformat": 4,
 "nbformat_minor": 4
}
