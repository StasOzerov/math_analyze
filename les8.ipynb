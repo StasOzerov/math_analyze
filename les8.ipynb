{
 "cells": [
  {
   "cell_type": "markdown",
   "metadata": {},
   "source": [
    "### Задание 3"
   ]
  },
  {
   "cell_type": "code",
   "execution_count": 13,
   "metadata": {},
   "outputs": [
    {
     "name": "stdout",
     "output_type": "stream",
     "text": [
      "1.375687140388597 -0.17475798540737905 1\n"
     ]
    }
   ],
   "source": [
    "from scipy.optimize import fsolve\n",
    "\n",
    "def calc(p):\n",
    "    x, y = p\n",
    "    return x**2 - y**2 + 3*x*y**3 - 2*x**2*y**2 + 2*x - 3*y - 5, \\\n",
    "           3*y**3 - 2*x**2 + 2*x**3*y - 5*x**2*y**2 + 5\n",
    "\n",
    "(x, y), info, ier, mesg = fsolve(calc, (1, 1), full_output=True)\n",
    "print(x, y, ier)"
   ]
  },
  {
   "cell_type": "markdown",
   "metadata": {},
   "source": [
    "### Задание 4"
   ]
  },
  {
   "cell_type": "code",
   "execution_count": 19,
   "metadata": {},
   "outputs": [
    {
     "name": "stdout",
     "output_type": "stream",
     "text": [
      "{(-3.65308, -0.27476), (2.49436, 0.70832), (2.21775, 0.61019), (1.37569, -0.17476), (1.2733, 1.66204)}\n"
     ]
    }
   ],
   "source": [
    "from scipy.optimize import fsolve\n",
    "\n",
    "def calc(p):\n",
    "    x, y = p\n",
    "    return x**2 - y**2 + 3*x*y**3 - 2*x**2*y**2 + 2*x - 3*y - 5, \\\n",
    "           3*y**3 - 2*x**2 + 2*x**3*y - 5*x**2*y**2 + 5\n",
    "\n",
    "band = 50\n",
    "answers = set()\n",
    "\n",
    "for x in range(-band, band):\n",
    "    for y in range (-band, band):\n",
    "        (x, y), info, ier, mesg = fsolve(calc, (x, y), full_output=True)\n",
    "        if ier == 1:\n",
    "            answers.add((round(x, 5), round(y, 5)))\n",
    "            \n",
    "print(answers)"
   ]
  }
 ],
 "metadata": {
  "kernelspec": {
   "display_name": "Python 3",
   "language": "python",
   "name": "python3"
  },
  "language_info": {
   "codemirror_mode": {
    "name": "ipython",
    "version": 3
   },
   "file_extension": ".py",
   "mimetype": "text/x-python",
   "name": "python",
   "nbconvert_exporter": "python",
   "pygments_lexer": "ipython3",
   "version": "3.8.3"
  }
 },
 "nbformat": 4,
 "nbformat_minor": 4
}
